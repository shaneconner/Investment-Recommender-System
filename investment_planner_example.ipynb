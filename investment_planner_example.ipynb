{
 "cells": [
  {
   "cell_type": "markdown",
   "metadata": {},
   "source": [
    "# Project 1, W200 Berkeley MIDS summer 2017: \n",
    "\n",
    "The upcoming project as stated in the syllabus is an individual project that will focus on the object-oriented principles that we have covered (and will cover) in class. You will be implementing a small, object-oriented project of your choosing.\n",
    "\n",
    "Examples might include:\n",
    "\n",
    "- An ATM (down to handling checks/cash/deposits etc)\n",
    "- A flower shop (you create and manage inventory, a simple cash register, etc.)\n",
    "- An adventure game where characters can do things like explore a world trade with other characters and have some element of chance in how they navigate the world\n",
    "- Something relating to your everyday work, maybe some process you would like to model or code up\n",
    "\n",
    "Your project should implement object oriented principles and should be interactive so that one can play around with it. Your assignment is to write up a one page design document detailing the project you will be working on over the next several weeks. This is essentially building out the requirements for your project. **Before you begin coding you need to get approval from Gunnar or Chris that your project is scoped well enough.** \n",
    "\n",
    "\n",
    "## Project Phases\n",
    "\n",
    "This assignment will be completed in 3 parts:\n",
    "\n",
    "- Week 1: Project Design Document - Rough Idea\n",
    "    - Feel free to email Chris or Gunnar your project idea (a paragraph or two) for email feedback.\n",
    "- Week 2: Begin Coding, Finalize Design Document (due 7/4 or 7/6)\n",
    "    - Live session 5 will include breakout rooms where you share code and get peer/teacher feedback\n",
    "- Weeks 3&4: Project due when class starts (due 7/25 or 7/27) \n",
    "    - Projects should be complete prior to class, but students will be allowed to update their projects for the next 24 hours after to make adjustments as needed based on class feedback.\n",
    "\n",
    "\n",
    "## What should go in the design document:\n",
    "\n",
    "In this document, you can write a specification of the classes you want to write and what you intend to implement. You should not be writing any code at this point (as we haven't approved the project) although you may do some degree of pseudo-code. You can model the program structure by saying what classes you think you're going to implement and how the user will interact with it. Also include the features that you're going to include in the project and why you think it should be of sufficient complexity to meet the project goals.\n",
    "\n",
    "A final version of your design document is due via your GitHub project_1 folder by due 7/4 or 7/6.\n",
    "\n",
    "\n",
    "## Assignment Breakdown\n",
    "\n",
    "This is a personal exercise to stretch your own limits and exercise your own creativity. While students come from diverse backgrounds, we feel that the entire class is ready for the challenge. As mentioned above we will provide one on one feedback from the instructors and you will also work with your peers to sketch through your ideas and organizational structure in class.\n",
    "\n",
    "We will allow for rolling design documentation submissions over the course of the next week, please keep a copy in your github as well as submit through the ISVC when you're ready for us to review it. We will do out best to get back to you as soon as possible. This is not a requirement, just available for those that want some feedback earlier rather than later.\n",
    "\n",
    "\n",
    "## Requirements & Limits\n",
    "\n",
    "You should aim for around 300 to 500 lines of code. You will not be graded on the number of lines of code you write nor will this be a comparison of projects implemented by your peers. For example, a project with 500 lines of code is not guaranteed to do better than a project with 300 lines of code. As we've seen, it's not necessarily the number of lines, it's the value in those lines. Being concise is a good thing and if you're at all worried that you're not going to hit that *soft* requirement please let us know.\n",
    "\n",
    "- This project must not exceed 750 lines of code\n",
    "- You are not likely to need more than 10 classes\n",
    "- Without specific permission, You may **not** use anything outside of the standard library. Please include all references that you used to build out your application.\n",
    "- Included with the code you should do a ~one page write up of what you completed, any you challenges you faced, as well as how we should go about testing and using your project.git"
   ]
  },
  {
   "cell_type": "code",
   "execution_count": 39,
   "metadata": {
    "collapsed": false
   },
   "outputs": [],
   "source": [
    "class Questionnaire:\n",
    "\n",
    "\n",
    "    \"\"\"\n",
    "    Attributes:\n",
    "    age: age of investor.\n",
    "    retirement_age: expected retirement age of the investor.\n",
    "    investment_style: investor's 1-10 score where 1 is the most conservative\n",
    "    and 10 the most risky.\n",
    "    crash_reaction: investor's reaction to a crash.\n",
    "\n",
    "    Methods:\n",
    "    ask_age: asks the investor their age and returns feedback for invalid\n",
    "    answers.\n",
    "    ask_retirement_age: asks the investor their expected retirement age and\n",
    "    returns feedback for invalid answers.\n",
    "    ask_investment_style: asks the investor their 1-10 score where 1 is the\n",
    "    most conservative and 10 the most risky and returns feedback for invalid\n",
    "    answers.\n",
    "    \"\"\"\n",
    "\n",
    "\n",
    "    def __init__(self):\n",
    "\n",
    "\n",
    "        questions = [self.ask_age, \\\n",
    "                     self.ask_retirement_age, \\\n",
    "                     self.ask_investment_style, \\\n",
    "                     self.ask_crash_reaction]\n",
    "\n",
    "        # Iterate through each question's function to launch question specific\n",
    "        # feedback until a valid answer is returned for each or the user quits\n",
    "        i = 0\n",
    "        while i < len(questions):\n",
    "            answered = questions[i]()\n",
    "            if str(answered).lower() == \"quit\":\n",
    "                raise Exception(\"Exiting program per 'quit' command.\")\n",
    "            if answered is True:\n",
    "                i += 1\n",
    "            else:\n",
    "                continue\n",
    "\n",
    "\n",
    "    # Verifies user's age input\n",
    "    def ask_age(self):\n",
    "\n",
    "        # Request user's age, provide feedback and reiterate question for\n",
    "        # invalid responses\n",
    "        self.age = input(\"What is your age?\"\n",
    "                      + \"\\nAnswer: \")\n",
    "\n",
    "        try:\n",
    "            # Check minimum and maximum age bound intrusions\n",
    "            # As a general rule, the FLSA sets 14 years of age as the minimum\n",
    "            # age for employment\n",
    "            # https://www.dol.gov/general/topic/youthlabor/agerequirements\n",
    "            if int(self.age) < 14:\n",
    "                print(\"Aren't you a tad young for investments? Enjoy your \" + \\\n",
    "                    + \"\\nyouth!\"\n",
    "                    + \"\\n...or enter an age older than 14 or type 'quit' to \" \\\n",
    "                    + \"\\nexit the program.\\n\")\n",
    "\n",
    "            # https://en.wikipedia.org/wiki/List_of_the_verified_oldest_people\n",
    "            elif int(self.age) > 122:\n",
    "                print(\"Unless you're Jeanne Calment the provided age is not\" \\\n",
    "                     + \"\\nvalid. Please enter an age under 122 or type\" \\\n",
    "                     + \"\\n'quit' to exit the program.\\n\")\n",
    "\n",
    "            # If no errors, return age attribute as int and green light answer\n",
    "            else:\n",
    "                self.age = int(self.age)\n",
    "                return True\n",
    "\n",
    "        # For any other errors, return except and if not 'quit', cycle over\n",
    "        except:\n",
    "\n",
    "            if str(self.age).lower() != \"quit\":\n",
    "                print(\"Please enter a valid age in an integer format\" \\\n",
    "                     + \"\\n(e.g., 35) or type 'quit' to exit the program.\\n\")\n",
    "\n",
    "            else:\n",
    "                return self.age\n",
    "\n",
    "\n",
    "    # Verifies user's retirement age input\n",
    "    def ask_retirement_age(self):\n",
    "\n",
    "        self.retirement_age = input(\"\\nAt what age do you plan to retire?\"\n",
    "                                 + \"\\nAnswer: \")\n",
    "\n",
    "        # Return feedback for minimum and maximum age bound intrusions\n",
    "        try:\n",
    "\n",
    "            # Ensure user's retirement age is under 35\n",
    "            if int(self.retirement_age) <= 35:\n",
    "                print(\"But the fun just started! Please enter a retirement\" \\\n",
    "                     + \"\\nage greather than 35 or type 'quit' to exit the\" \\\n",
    "                     + \"\\nprogram.\")\n",
    "\n",
    "            # Ensure retirement age is under 75 if user is under 65\n",
    "            elif int(self.retirement_age) > 75 and self.age < 65:\n",
    "                print(\"You're the glass half empty type, eh? Please enter a\" \\\n",
    "                     + \"\\nretirement age less than 75 or type 'quit' to exit\" \\\n",
    "                     + \"\\nthe program.\")\n",
    "\n",
    "            # If retirement age is younger than their current age, assume user\n",
    "            # is already retired\n",
    "            elif int(self.retirement_age) <= self.age:\n",
    "                self.retirement_age = -1\n",
    "                return True\n",
    "\n",
    "            # If no errors result, green light valid answer\n",
    "            else:\n",
    "                self.retirement_age = int(self.retirement_age)\n",
    "                return True\n",
    "\n",
    "        # If exception resulted, check if user entered quit or recycle question\n",
    "        except:\n",
    "            if str(self.retirement_age).lower() != \"quit\":\n",
    "                print(\"Please enter a valid age in an integer format\" \\\n",
    "                     + \"\\n(e.g., 65) or type 'quit' to exit the program.\")\n",
    "            else:\n",
    "                return self.retirement_age\n",
    "\n",
    "\n",
    "    # Verifies user's investment style input\n",
    "    def ask_investment_style(self):\n",
    "\n",
    "        # Request user's investment style, provide feedback and reiterate\n",
    "        # question for invalid responses\n",
    "        self.investment_style = input(\"\\nOn a scale of 1-10, what is your\" \\\n",
    "                                     + \"\\npreferred investment style? (i.e.,\" \\\n",
    "                                     + \"\\n1 is the most conservative and 10\" \\\n",
    "                                     + \"\\nthe most aggressive.)\"\n",
    "                                     + \"\\nAnswer: \")\n",
    "\n",
    "        # Return feedback for minimum and maximum bound intrusions\n",
    "        try:\n",
    "            # Ensure value is at least 1\n",
    "            if int(self.investment_style) < 1:\n",
    "                print(\"Noone is that cautious! Please enter a value greater\" \\\n",
    "                     + \"\\nthan 0 or type 0 to quit.\")\n",
    "\n",
    "            # Ensure value is at most 10\n",
    "            elif int(self.investment_style) > 10:\n",
    "                print(\"I respect your ambition but please enter a value\" \\\n",
    "                     + \"\\ngreater than 0 or type 0 to quit.\")\n",
    "\n",
    "            # If an integer returns within the range, green light valid answer\n",
    "            else:\n",
    "                return True\n",
    "\n",
    "        # If exception resulted, check if user entered quit or recycle question\n",
    "        except:\n",
    "\n",
    "            if str(self.investment_style).lower() != \"quit\":\n",
    "                print(\"Please enter a number between 1 and 10 or type 'quit'\" \\\n",
    "                     + \"\\nto exit the program.\")\n",
    "\n",
    "            else:\n",
    "                return self.investment_style\n",
    "\n",
    "\n",
    "    # Verify user's reaction to a market crash input\n",
    "    def ask_crash_reaction(self):\n",
    "\n",
    "        self.crash_reaction = input(\"\\nIn the event of a market crash, \" \\\n",
    "                                    + \"how do you react?\" \\\n",
    "                                    + \"\\na) Sell all of the remaining \" \\\n",
    "                                    + \"investment.\" \\\n",
    "                                    + \"\\nb) Sell a portion of the remaining \" \\\n",
    "                                    + \"investment.\" \\\n",
    "                                    + \"\\nc) Hold onto the investment and \" \\\n",
    "                                    + \"sell nothing.\" \\\n",
    "                                    + \"\\nd) Buy more of the investment.\" \\\n",
    "                                    + \"\\nAnswer: \")\n",
    "\n",
    "        valid_answers = \"abcd\"\n",
    "        # Return feedback for minimum and maximum bound intrusions\n",
    "        try:\n",
    "\n",
    "            # Ensure user entered a, b, c, or d\n",
    "            if str(self.crash_reaction).lower() not in valid_answers:\n",
    "                print(\"Please select an answer valid answer (i.e., 'a', 'b',\" \\\n",
    "                     + \"\\n'c', or 'd') or type 'quit' to exit the program.\")\n",
    "            # If user entered a, b, c, or d green light answer\n",
    "            else:\n",
    "                self.crash_reaction = str(self.crash_reaction).lower()\n",
    "                return True\n",
    "\n",
    "        # If exception resulted, check if user entered quit or recycle question\n",
    "        except:\n",
    "\n",
    "            if str(self.crash_reaction).lower() != \"quit\":\n",
    "                print(\"Please select an answer valid answer (i.e., 'a', 'b',\" \\\n",
    "                     + \"\\n'c', or 'd') or type 'quit' to exit the program.\")\n",
    "\n",
    "            else:\n",
    "                return self.crash_reaction.lower()"
   ]
  },
  {
   "cell_type": "code",
   "execution_count": 40,
   "metadata": {
    "collapsed": false
   },
   "outputs": [
    {
     "name": "stdout",
     "output_type": "stream",
     "text": [
      "What is your age?\n",
      "Answer: 27\n",
      "\n",
      "At what age do you plan to retire?\n",
      "Answer: 67\n",
      "\n",
      "On a scale of 1-10, what is your\n",
      "preferred investment style? (i.e.,\n",
      "1 is the most conservative and 10\n",
      "the most aggressive.)\n",
      "Answer: 8\n",
      "\n",
      "In the event of a market crash, how do you react?\n",
      "a) Sell all of the remaining investment.\n",
      "b) Sell a portion of the remaining investment.\n",
      "c) Hold onto the investment and sell nothing.\n",
      "d) Buy more of the investment.\n",
      "Answer: c\n"
     ]
    }
   ],
   "source": [
    "shane = Questionnaire()"
   ]
  },
  {
   "cell_type": "code",
   "execution_count": 41,
   "metadata": {
    "collapsed": false
   },
   "outputs": [
    {
     "data": {
      "text/plain": [
       "27"
      ]
     },
     "execution_count": 41,
     "metadata": {},
     "output_type": "execute_result"
    }
   ],
   "source": [
    "shane.age"
   ]
  },
  {
   "cell_type": "code",
   "execution_count": 42,
   "metadata": {
    "collapsed": false
   },
   "outputs": [
    {
     "data": {
      "text/plain": [
       "67"
      ]
     },
     "execution_count": 42,
     "metadata": {},
     "output_type": "execute_result"
    }
   ],
   "source": [
    "shane.retirement_age"
   ]
  },
  {
   "cell_type": "code",
   "execution_count": 43,
   "metadata": {
    "collapsed": false
   },
   "outputs": [
    {
     "data": {
      "text/plain": [
       "'8'"
      ]
     },
     "execution_count": 43,
     "metadata": {},
     "output_type": "execute_result"
    }
   ],
   "source": [
    "shane.investment_style"
   ]
  },
  {
   "cell_type": "code",
   "execution_count": 44,
   "metadata": {
    "collapsed": false
   },
   "outputs": [
    {
     "data": {
      "text/plain": [
       "'c'"
      ]
     },
     "execution_count": 44,
     "metadata": {},
     "output_type": "execute_result"
    }
   ],
   "source": [
    "shane.crash_reaction"
   ]
  },
  {
   "cell_type": "code",
   "execution_count": 45,
   "metadata": {
    "collapsed": false
   },
   "outputs": [
    {
     "name": "stdout",
     "output_type": "stream",
     "text": [
      "What is your age?\n",
      "Answer: asdfl;ndasj;b\n",
      "Please enter a valid age in an integer format\n",
      "(e.g., 35) or type 'quit' to exit the program.\n",
      "\n",
      "What is your age?\n",
      "Answer: -10\n",
      "Please enter a valid age in an integer format\n",
      "(e.g., 35) or type 'quit' to exit the program.\n",
      "\n",
      "What is your age?\n",
      "Answer: 0\n",
      "Please enter a valid age in an integer format\n",
      "(e.g., 35) or type 'quit' to exit the program.\n",
      "\n",
      "What is your age?\n",
      "Answer: 999\n",
      "Unless you're Jeanne Calment the provided age is not\n",
      "valid. Please enter an age under 122 or type\n",
      "'quit' to exit the program.\n",
      "\n",
      "What is your age?\n",
      "Answer: 6\n",
      "Please enter a valid age in an integer format\n",
      "(e.g., 35) or type 'quit' to exit the program.\n",
      "\n",
      "What is your age?\n",
      "Answer: 22\n",
      "\n",
      "At what age do you plan to retire?\n",
      "Answer: ksdlannwfe\n",
      "Please enter a valid age in an integer format\n",
      "(e.g., 65) or type 'quit' to exit the program.\n",
      "\n",
      "At what age do you plan to retire?\n",
      "Answer: 0\n",
      "But the fun just started! Please enter a retirement\n",
      "age greather than 35 or type 'quit' to exit the\n",
      "program.\n",
      "\n",
      "At what age do you plan to retire?\n",
      "Answer: 16\n",
      "But the fun just started! Please enter a retirement\n",
      "age greather than 35 or type 'quit' to exit the\n",
      "program.\n",
      "\n",
      "At what age do you plan to retire?\n",
      "Answer: 25\n",
      "But the fun just started! Please enter a retirement\n",
      "age greather than 35 or type 'quit' to exit the\n",
      "program.\n",
      "\n",
      "At what age do you plan to retire?\n",
      "Answer: 999\n",
      "You're the glass half empty type, eh? Please enter a\n",
      "retirement age less than 75 or type 'quit' to exit\n",
      "the program.\n",
      "\n",
      "At what age do you plan to retire?\n",
      "Answer: 45\n",
      "\n",
      "On a scale of 1-10, what is your\n",
      "preferred investment style? (i.e.,\n",
      "1 is the most conservative and 10\n",
      "the most aggressive.)\n",
      "Answer: 0\n",
      "Noone is that cautious! Please enter a value greater\n",
      "than 0 or type 0 to quit.\n",
      "\n",
      "On a scale of 1-10, what is your\n",
      "preferred investment style? (i.e.,\n",
      "1 is the most conservative and 10\n",
      "the most aggressive.)\n",
      "Answer: 11\n",
      "I respect your ambition but please enter a value\n",
      "greater than 0 or type 0 to quit.\n",
      "\n",
      "On a scale of 1-10, what is your\n",
      "preferred investment style? (i.e.,\n",
      "1 is the most conservative and 10\n",
      "the most aggressive.)\n",
      "Answer: gwerweqf\n",
      "Please enter a number between 1 and 10 or type 'quit'\n",
      "to exit the program.\n",
      "\n",
      "On a scale of 1-10, what is your\n",
      "preferred investment style? (i.e.,\n",
      "1 is the most conservative and 10\n",
      "the most aggressive.)\n",
      "Answer: 10\n",
      "\n",
      "In the event of a market crash, how do you react?\n",
      "a) Sell all of the remaining investment.\n",
      "b) Sell a portion of the remaining investment.\n",
      "c) Hold onto the investment and sell nothing.\n",
      "d) Buy more of the investment.\n",
      "Answer: fh;qqdj\n",
      "Please select an answer valid answer (i.e., 'a', 'b',\n",
      "'c', or 'd') or type 'quit' to exit the program.\n",
      "\n",
      "In the event of a market crash, how do you react?\n",
      "a) Sell all of the remaining investment.\n",
      "b) Sell a portion of the remaining investment.\n",
      "c) Hold onto the investment and sell nothing.\n",
      "d) Buy more of the investment.\n",
      "Answer: -10\n",
      "Please select an answer valid answer (i.e., 'a', 'b',\n",
      "'c', or 'd') or type 'quit' to exit the program.\n",
      "\n",
      "In the event of a market crash, how do you react?\n",
      "a) Sell all of the remaining investment.\n",
      "b) Sell a portion of the remaining investment.\n",
      "c) Hold onto the investment and sell nothing.\n",
      "d) Buy more of the investment.\n",
      "Answer: 1\n",
      "Please select an answer valid answer (i.e., 'a', 'b',\n",
      "'c', or 'd') or type 'quit' to exit the program.\n",
      "\n",
      "In the event of a market crash, how do you react?\n",
      "a) Sell all of the remaining investment.\n",
      "b) Sell a portion of the remaining investment.\n",
      "c) Hold onto the investment and sell nothing.\n",
      "d) Buy more of the investment.\n",
      "Answer: k\n",
      "Please select an answer valid answer (i.e., 'a', 'b',\n",
      "'c', or 'd') or type 'quit' to exit the program.\n",
      "\n",
      "In the event of a market crash, how do you react?\n",
      "a) Sell all of the remaining investment.\n",
      "b) Sell a portion of the remaining investment.\n",
      "c) Hold onto the investment and sell nothing.\n",
      "d) Buy more of the investment.\n",
      "Answer: a\n"
     ]
    }
   ],
   "source": [
    "wise_guy = Questionnaire()"
   ]
  },
  {
   "cell_type": "code",
   "execution_count": 46,
   "metadata": {
    "collapsed": false
   },
   "outputs": [
    {
     "data": {
      "text/plain": [
       "22"
      ]
     },
     "execution_count": 46,
     "metadata": {},
     "output_type": "execute_result"
    }
   ],
   "source": [
    "wise_guy.age"
   ]
  },
  {
   "cell_type": "code",
   "execution_count": 47,
   "metadata": {
    "collapsed": false
   },
   "outputs": [
    {
     "data": {
      "text/plain": [
       "45"
      ]
     },
     "execution_count": 47,
     "metadata": {},
     "output_type": "execute_result"
    }
   ],
   "source": [
    "wise_guy.retirement_age"
   ]
  },
  {
   "cell_type": "code",
   "execution_count": 48,
   "metadata": {
    "collapsed": false
   },
   "outputs": [
    {
     "data": {
      "text/plain": [
       "'10'"
      ]
     },
     "execution_count": 48,
     "metadata": {},
     "output_type": "execute_result"
    }
   ],
   "source": [
    "wise_guy.investment_style"
   ]
  },
  {
   "cell_type": "code",
   "execution_count": 49,
   "metadata": {
    "collapsed": false
   },
   "outputs": [
    {
     "data": {
      "text/plain": [
       "'a'"
      ]
     },
     "execution_count": 49,
     "metadata": {},
     "output_type": "execute_result"
    }
   ],
   "source": [
    "wise_guy.crash_reaction"
   ]
  },
  {
   "cell_type": "code",
   "execution_count": 50,
   "metadata": {
    "collapsed": false
   },
   "outputs": [],
   "source": [
    "class Investor_Profile:\n",
    "    \n",
    "\n",
    "    \"\"\"\n",
    "    Attributes:\n",
    "    equity_proportion: proportion of suggested investment in equity based \n",
    "    on the user's current age, expected retirement age, and risk threshold.\n",
    "    bond_proportion: proportion of suggested investment in bond based \n",
    "    on the user's current age, expected retirement age, and risk threshold.\n",
    "    cash_proportion: proportion of suggested cash or cash equivalents based \n",
    "    on the user's current age, expected retirement age, and risk threshold.\n",
    "    profile: bucketed profile of investor (Very Conservative to Very \n",
    "    Aggressive).\n",
    "    investment_style: investor's 1-10 score where 1 is the most conservative\n",
    "    and 10 the most risky.\n",
    "    crash_reaction: investor's reaction to a crash.\n",
    "\n",
    "    Methods:\n",
    "    baseline: determine baseline of suggested investment in equity based on\n",
    "    current age and retirement age.\n",
    "    risk_threshold: determine risk threshold based on a user's self described\n",
    "    investment style and reaction to a market crash\n",
    "    cash_on_hand: suggests amount of cash or cash equivalents to hold based on\n",
    "    a user's investment profile.\n",
    "    \"\"\"\n",
    "\n",
    "    \n",
    "    def __init__(self, investor):\n",
    "        \n",
    "        # Import the user's responses from the Questionnaire class\n",
    "        self.investor = investor\n",
    "        # Establish a baseline of portfolio invested in equity stock\n",
    "        # based on the user's current and expected retirement age\n",
    "        self.equity_proportion = self.baseline()\n",
    "        # Bucket the user into an investor profile and adjust equity allocation\n",
    "        # as appropriate, results driven largely based on information from:\n",
    "        # https://smartasset.com/investing/asset-allocation-calculator#8VL52n1Rhe\n",
    "        self.profile = self.risk_threshold()\n",
    "        # Establish portfolio invested in cash or cash equivalents\n",
    "        self.cash_proportion = int(round(self.cash_on_hand(),0))\n",
    "        # Establish portfolio invested in bonds\n",
    "        self.bond_proportion = int(100 - self.equity_proportion \\\n",
    "                                       - self.cash_proportion)\n",
    "\n",
    "        print('\\nThank you! According to your responses your approach towards ' \\\n",
    "              + '\\ninvesting closest aligns with a {} '.format(self.profile) \\\n",
    "              + 'investment profile.\\n' \\\n",
    "              + 'In light of your age, retirement age, and risk threshold an ' \\\n",
    "              + '\\napproriate asset allocation is: \\n\\n' \\\n",
    "              + '{:3}'.format(str(self.equity_proportion) + '% ') \\\n",
    "              + 'Stocks' + '\\n' \\\n",
    "              + '{:3}'.format(str(self.bond_proportion) + '% ') \\\n",
    "              + 'Bonds' + '\\n' \\\n",
    "              + '{:3}'.format(str(self.cash_proportion) + '% ') \\\n",
    "              + 'Cash' + '\\n\\n')\n",
    "    \n",
    "    # Determine proportion of investments allocated in stock equity\n",
    "    def baseline(self):\n",
    "        \n",
    "        # If retired, default 45% equity allocation\n",
    "        if int(self.investor.retirement_age) == -1:\n",
    "            return 45\n",
    "        \n",
    "        # Conventional wisdom states 110 - current age is that amount\n",
    "        # Although that doesn't account for individual retirement age\n",
    "        # variation. If the average retirement is at 65 which recommends\n",
    "        # a 45% equity allocation, we will use that as a baseline and add\n",
    "        # years until retirement\n",
    "        else:\n",
    "            return int(self.investor.retirement_age) \\\n",
    "            - int(self.investor.age) + 45\n",
    "          \n",
    "            \n",
    "    def risk_threshold(self):\n",
    "        \n",
    "        # Use the investor's self described investment style as a baseline\n",
    "        # for risk tolerance, double that, and subtract 10 to create a range\n",
    "        # of -10 to 10\n",
    "        threshold = (int(self.investor.investment_style) * 2) - 10\n",
    "        \n",
    "        # Further adjust risk tolerance based on their reaction to a market\n",
    "        # crash (risk aversion)\n",
    "        if self.investor.crash_reaction == 'a':\n",
    "            threshold -= 10\n",
    "            \n",
    "        elif self.investor.crash_reaction == 'b':\n",
    "            threshold -= 5\n",
    "            \n",
    "        elif self.investor.crash_reaction == 'c':\n",
    "            threshold += 5\n",
    "            \n",
    "        elif self.investor.crash_reaction == 'd':\n",
    "            threshold += 10\n",
    "            \n",
    "        else:\n",
    "            raise Exception(\"Unable to calculate investor's risk threshold.\")\n",
    "        \n",
    "        # Adjust equity proportion based on tolerance (range of -20 to 20)\n",
    "        self.equity_proportion += threshold\n",
    "        \n",
    "        if self.equity_proportion > 90:\n",
    "            self.equity_proportion = 90\n",
    "            \n",
    "        if self.equity_proportion < 0:\n",
    "            self.equity_proportion = 0\n",
    "        \n",
    "        # Categorize user's investment style based on tolerance\n",
    "        if threshold < -12:\n",
    "            return 'Very Conservative'\n",
    "        elif threshold <= -4:\n",
    "            return 'Conservative'\n",
    "        elif threshold <= 4:\n",
    "            return 'Moderate'\n",
    "        elif threshold <= 12:\n",
    "            return 'Aggressive'\n",
    "        elif threshold > 12:\n",
    "            return 'Very Aggressive'\n",
    "        else:\n",
    "            raise Exception(\"Unable to determine investor's profile.\")\n",
    "            \n",
    "            \n",
    "    # Use the investor's profile to determine amount of cash\n",
    "    # or cash equivalents.        \n",
    "    def cash_on_hand(self):\n",
    "        \n",
    "        # Return 5% cash on hand if user is moderate to very aggressive\n",
    "        if self.profile == 'Moderate' \\\n",
    "        or self.profile == 'Aggressive' \\\n",
    "        or self.profile == 'Very Aggressive':\n",
    "            cash = 5\n",
    "\n",
    "        # Return a 3/11 split of the remainder after accounting for \n",
    "        # equity proportion\n",
    "        elif self.profile == 'Conservative':\n",
    "            cash = (3/11) * (100 - self.equity_proportion)\n",
    "\n",
    "        # Return a 3/8 split of the remainder after accounting for \n",
    "        # equity proportion\n",
    "        elif self.profile == 'Very Conservative':\n",
    "            cash = (3/8) * (100 - self.equity_proportion)\n",
    "\n",
    "        else:\n",
    "            raise Exception(\"Unable to determine proportion of cash or \" \\\n",
    "                          + \"cash equivalents.\")\n",
    "            \n",
    "        if cash < 5:\n",
    "            cash = 5\n",
    "        \n",
    "        return cash"
   ]
  },
  {
   "cell_type": "code",
   "execution_count": 51,
   "metadata": {
    "collapsed": false
   },
   "outputs": [
    {
     "name": "stdout",
     "output_type": "stream",
     "text": [
      "Thank you! According to your responses your approach towards \n",
      "investing closest aligns with a Aggressive investment profile.\n",
      "In light of your age, retirement age, and risk threshold an \n",
      "approriate asset allocation is: \n",
      "\n",
      "90% Stocks\n",
      "5% Bonds\n",
      "5% Cash\n",
      "\n",
      "\n"
     ]
    }
   ],
   "source": [
    "shane_profile = Investor_Profile(shane)"
   ]
  },
  {
   "cell_type": "code",
   "execution_count": 52,
   "metadata": {
    "collapsed": false
   },
   "outputs": [
    {
     "data": {
      "text/plain": [
       "'Aggressive'"
      ]
     },
     "execution_count": 52,
     "metadata": {},
     "output_type": "execute_result"
    }
   ],
   "source": [
    "shane_profile.profile"
   ]
  },
  {
   "cell_type": "code",
   "execution_count": 53,
   "metadata": {
    "collapsed": false
   },
   "outputs": [
    {
     "data": {
      "text/plain": [
       "90"
      ]
     },
     "execution_count": 53,
     "metadata": {},
     "output_type": "execute_result"
    }
   ],
   "source": [
    "shane_profile.equity_proportion"
   ]
  },
  {
   "cell_type": "code",
   "execution_count": 54,
   "metadata": {
    "collapsed": false
   },
   "outputs": [
    {
     "data": {
      "text/plain": [
       "5"
      ]
     },
     "execution_count": 54,
     "metadata": {},
     "output_type": "execute_result"
    }
   ],
   "source": [
    "shane_profile.bond_proportion"
   ]
  },
  {
   "cell_type": "code",
   "execution_count": 55,
   "metadata": {
    "collapsed": false
   },
   "outputs": [
    {
     "data": {
      "text/plain": [
       "5"
      ]
     },
     "execution_count": 55,
     "metadata": {},
     "output_type": "execute_result"
    }
   ],
   "source": [
    "shane_profile.cash_proportion"
   ]
  },
  {
   "cell_type": "code",
   "execution_count": 56,
   "metadata": {
    "collapsed": false
   },
   "outputs": [
    {
     "name": "stdout",
     "output_type": "stream",
     "text": [
      "Thank you! According to your responses your approach towards \n",
      "investing closest aligns with a Conservative investment profile.\n",
      "In light of your age, retirement age, and risk threshold an \n",
      "approriate asset allocation is: \n",
      "\n",
      "58% Stocks\n",
      "31% Bonds\n",
      "11% Cash\n",
      "\n",
      "\n"
     ]
    }
   ],
   "source": [
    "wise_guy_profile = Investor_Profile(wise_guy)"
   ]
  },
  {
   "cell_type": "code",
   "execution_count": 57,
   "metadata": {
    "collapsed": false
   },
   "outputs": [
    {
     "data": {
      "text/plain": [
       "'Conservative'"
      ]
     },
     "execution_count": 57,
     "metadata": {},
     "output_type": "execute_result"
    }
   ],
   "source": [
    "wise_guy_profile.profile"
   ]
  },
  {
   "cell_type": "code",
   "execution_count": 58,
   "metadata": {
    "collapsed": false
   },
   "outputs": [
    {
     "data": {
      "text/plain": [
       "58"
      ]
     },
     "execution_count": 58,
     "metadata": {},
     "output_type": "execute_result"
    }
   ],
   "source": [
    "wise_guy_profile.equity_proportion"
   ]
  },
  {
   "cell_type": "code",
   "execution_count": 59,
   "metadata": {
    "collapsed": false
   },
   "outputs": [
    {
     "data": {
      "text/plain": [
       "31"
      ]
     },
     "execution_count": 59,
     "metadata": {},
     "output_type": "execute_result"
    }
   ],
   "source": [
    "wise_guy_profile.bond_proportion"
   ]
  },
  {
   "cell_type": "code",
   "execution_count": 60,
   "metadata": {
    "collapsed": false
   },
   "outputs": [
    {
     "data": {
      "text/plain": [
       "11"
      ]
     },
     "execution_count": 60,
     "metadata": {},
     "output_type": "execute_result"
    }
   ],
   "source": [
    "wise_guy_profile.cash_proportion"
   ]
  },
  {
   "cell_type": "code",
   "execution_count": 61,
   "metadata": {
    "collapsed": false
   },
   "outputs": [],
   "source": [
    "class Integrate:\n",
    "\n",
    "    \n",
    "    \"\"\"\n",
    "    Attributes:\n",
    "    funds: True/False regarding if the recommended investments should contain\n",
    "    only mutual funds, default set to 'True'.\n",
    "    etfs: True/False regarding if the recommended investments should contain\n",
    "    only ETF's (exchange-traded fund), default set to 'False'.\n",
    "    data: investment data of either mutual funds of ETF's.\n",
    "\n",
    "    Methods:\n",
    "    import_funds: reads text file manually loaded into executable folder\n",
    "    locaton which contains data on mutual funds.\n",
    "    import_etfs: reads text file manually loaded into executable folder\n",
    "    locaton which contains data on ETFs.\n",
    "    expense_percentile: assigns an investment's percentile value (higher is\n",
    "    better) dependent on its respective expense ratio (lower is better).\n",
    "    rating_percentile: assigns an investment's percentile value (higher is\n",
    "    better) dependent on its respective Morningstar rating (higher is better).\n",
    "    rank: averages expense and rating percentiles together and ranks investments\n",
    "    based on the outcome.\n",
    "    \"\"\"\n",
    "\n",
    "    \n",
    "    def __init__(self, funds=False, etfs=False, category=None):\n",
    "\n",
    "        # If true, imports mutual fund data\n",
    "        self.funds = funds\n",
    "        # If true, imports mutual fund data\n",
    "        self.etfs = etfs\n",
    "        \n",
    "        # Filters to asset category based on given argument\n",
    "        self.category = category\n",
    "\n",
    "        # Checks which investment to gather\n",
    "        if self.funds is True:\n",
    "            self.data = self.import_funds()\n",
    "\n",
    "        if self.etfs is True:\n",
    "            self.data = self.import_etfs()\n",
    "\n",
    "        # Assigns a percentile value for expense ratio\n",
    "        self.expense_percentile()\n",
    "        # Assigns a percentile value for Morningstar rating\n",
    "        self.rating_percentile()\n",
    "        # Average expense ratio and Morningstar rating percentiles and reranks\n",
    "        self.rank()\n",
    "\n",
    "\n",
    "    # Imports mutual fund data\n",
    "    def import_funds(self):\n",
    "\n",
    "        # Import the mutual fund data from txt file\n",
    "        data = []\n",
    "        with open('mutual_funds.txt') as inputfile:\n",
    "            for line in inputfile:\n",
    "                line = line.split('\\t')\n",
    "                row = []\n",
    "                # Filter unwanted characters encountered\n",
    "                for i in line:\n",
    "                    row.append(i.strip('\\xa0').strip('\\n').strip('%'))\n",
    "                try:\n",
    "                    if row[2] == str(self.category):\n",
    "                        data.append([row[0], row[1], row[2], \\\n",
    "                                    float(row[6]), int(row[8])])\n",
    "                    else:\n",
    "                        continue\n",
    "                except:\n",
    "                    continue\n",
    "\n",
    "        return data\n",
    "\n",
    "    \n",
    "    # Imports ETF data\n",
    "    def import_etfs(self):\n",
    "\n",
    "        # Import the ETF data from txt file\n",
    "        data = []\n",
    "        with open('etfs.txt') as inputfile:\n",
    "            for line in inputfile:\n",
    "                line = line.split('\\t')\n",
    "                row = []\n",
    "                # Filter unwanted characters encountered\n",
    "                for i in line:\n",
    "                    row.append(i.strip('\\xa0').strip('\\n').strip('%'))\n",
    "                try:\n",
    "                    if row[2] == str(self.category):\n",
    "                        data.append([row[0], row[1], row[2], \\\n",
    "                                    float(row[6]), int(row[3])])\n",
    "                    else:\n",
    "                        continue\n",
    "                except:\n",
    "                    continue\n",
    "\n",
    "        return data\n",
    "\n",
    "\n",
    "    # Assigns a percentile value for expense ratio\n",
    "    def expense_percentile(self):\n",
    "\n",
    "        # Sorts data list of lists by expense ratio, lower is better\n",
    "        self.data.sort(key=lambda x: x[3], reverse=False)\n",
    "\n",
    "        # Cycles through list of lists, removes any investments without\n",
    "        # expense ratio information and appends a percentile\n",
    "        i = 0\n",
    "        while i < len(self.data):\n",
    "\n",
    "            # Remove investments with invalid information\n",
    "            try:\n",
    "                if self.data[i][3] < 0.01:\n",
    "                    del self.data[i]\n",
    "                    continue\n",
    "\n",
    "            except:\n",
    "                del self.data[i]\n",
    "                continue\n",
    "\n",
    "            # If first value, assign top percentile value (1)\n",
    "            if i == 0:\n",
    "                self.data[i].append(1 - (i / len(self.data)))\n",
    "\n",
    "            # If the expense ratio matches the previos entry's expense ratio,\n",
    "            # assign the same percentile value\n",
    "            elif self.data[i][3] == self.data[i-1][3]:\n",
    "                self.data[i].append(self.data[i-1][5])\n",
    "\n",
    "            # Otherwise, append percentile by taking 1 minus the percent of\n",
    "            # investments sorted before current investment\n",
    "            else:\n",
    "                self.data[i].append(1 - (i / len(self.data)))\n",
    "\n",
    "            i += 1\n",
    "\n",
    "\n",
    "    # Assigns a percentile value for Morningstar rating\n",
    "    def rating_percentile(self):\n",
    "\n",
    "        # Sorts data list of lists by Morningstar rating, higher is better\n",
    "        self.data.sort(key=lambda x: x[4], reverse=True)\n",
    "\n",
    "        # Cycles through list of lists, removes any investments without\n",
    "        # Morningstar Rating information and appends a percentile\n",
    "        i = 0\n",
    "        while i < len(self.data):\n",
    "\n",
    "            # Remove investments with invalid information\n",
    "            try:\n",
    "                if int(self.data[i][4]) < 1 \\\n",
    "                or int(self.data[i][4]) > 5:\n",
    "                    del self.data[i]\n",
    "                    continue\n",
    "\n",
    "            except:\n",
    "                del self.data[i]\n",
    "                continue\n",
    "\n",
    "            # If first value, assign top percentile value (1)\n",
    "            if i == 0:\n",
    "                self.data[i].append(1 - (i / len(self.data)))\n",
    "\n",
    "            # If the Morningstar rating matches the previos entry's Morningstar\n",
    "            # rating, assign the same percentile value\n",
    "            elif self.data[i][4] == self.data[i-1][4]:\n",
    "                self.data[i].append(self.data[i-1][6])\n",
    "\n",
    "            # Otherwise, append percentile by taking 1 minus the percent of\n",
    "            # investments sorted before current investment\n",
    "            else:\n",
    "                self.data[i].append(1 - (i / len(self.data)))\n",
    "\n",
    "            i += 1\n",
    "\n",
    "    \n",
    "    # Average expense ratio and Morningstar rating percentiles and reranks\n",
    "    def rank(self):\n",
    "\n",
    "        # Cycles through list of lists, removes any investments unable to add\n",
    "        # expense ratio percentile and Morningstar rating percentile\n",
    "        i = 0\n",
    "        while i < len(self.data):\n",
    "\n",
    "            # Remove investments resulting in any errors otherwise appends\n",
    "            # average percentile\n",
    "            try:\n",
    "                self.data[i].append((self.data[i][5] + self.data[i][6]) / 2)\n",
    "                i += 1\n",
    "\n",
    "            except:\n",
    "                del self.data[i]\n",
    "                continue\n",
    "\n",
    "        # Resorts list of lists by average percentile value\n",
    "        self.data.sort(key=lambda x: x[7], reverse=True)"
   ]
  },
  {
   "cell_type": "code",
   "execution_count": 62,
   "metadata": {
    "collapsed": false
   },
   "outputs": [],
   "source": [
    "fund_data = Integrate(funds=True, category='Corporate Bond')"
   ]
  },
  {
   "cell_type": "code",
   "execution_count": 63,
   "metadata": {
    "collapsed": false,
    "scrolled": true
   },
   "outputs": [
    {
     "data": {
      "text/plain": [
       "[['BRACX',\n",
       "  'BlackRock Allocation Target Shrs Ser C',\n",
       "  'Corporate Bond',\n",
       "  0.01,\n",
       "  4,\n",
       "  1.0,\n",
       "  0.9572649572649573,\n",
       "  0.9786324786324787],\n",
       " ['FCSPX',\n",
       "  'Federated Corporate Bond Strategy',\n",
       "  'Corporate Bond',\n",
       "  0.01,\n",
       "  4,\n",
       "  1.0,\n",
       "  0.9572649572649573,\n",
       "  0.9786324786324787],\n",
       " ['IIGPX',\n",
       "  'Voya Investment Grade Credit P',\n",
       "  'Corporate Bond',\n",
       "  0.1,\n",
       "  4,\n",
       "  0.9829059829059829,\n",
       "  0.9572649572649573,\n",
       "  0.9700854700854701],\n",
       " ['PBBBX',\n",
       "  'PIA BBB Bond',\n",
       "  'Corporate Bond',\n",
       "  0.15,\n",
       "  4,\n",
       "  0.9743589743589743,\n",
       "  0.9572649572649573,\n",
       "  0.9658119658119658],\n",
       " ['URIBX',\n",
       "  'USAA Intermediate Term Bond R6',\n",
       "  'Corporate Bond',\n",
       "  0.39,\n",
       "  4,\n",
       "  0.9401709401709402,\n",
       "  0.9572649572649573,\n",
       "  0.9487179487179487]]"
      ]
     },
     "execution_count": 63,
     "metadata": {},
     "output_type": "execute_result"
    }
   ],
   "source": [
    "fund_data.data[:5]"
   ]
  },
  {
   "cell_type": "code",
   "execution_count": 64,
   "metadata": {
    "collapsed": false
   },
   "outputs": [],
   "source": [
    "etf_data = Integrate(etfs=True, category='Large Blend')"
   ]
  },
  {
   "cell_type": "code",
   "execution_count": 65,
   "metadata": {
    "collapsed": false
   },
   "outputs": [
    {
     "data": {
      "text/plain": [
       "[['DGRO',\n",
       "  'iShares Core Dividend Growth ETF',\n",
       "  'Large Blend',\n",
       "  0.08,\n",
       "  5,\n",
       "  0.8490566037735849,\n",
       "  1.0,\n",
       "  0.9245283018867925],\n",
       " ['ITOT',\n",
       "  'iShares Core S&P Total US Stock Mkt ETF',\n",
       "  'Large Blend',\n",
       "  0.03,\n",
       "  4,\n",
       "  1.0,\n",
       "  0.7735849056603774,\n",
       "  0.8867924528301887],\n",
       " ['SCHB',\n",
       "  'Schwab US Broad Market ETFâ„¢',\n",
       "  'Large Blend',\n",
       "  0.03,\n",
       "  4,\n",
       "  1.0,\n",
       "  0.7735849056603774,\n",
       "  0.8867924528301887],\n",
       " ['SCHX',\n",
       "  'Schwab US Large-Cap ETFâ„¢',\n",
       "  'Large Blend',\n",
       "  0.03,\n",
       "  4,\n",
       "  1.0,\n",
       "  0.7735849056603774,\n",
       "  0.8867924528301887],\n",
       " ['LGLV',\n",
       "  'SPDRÂ® SSGA US Large Cap Low Volatil ETF',\n",
       "  'Large Blend',\n",
       "  0.12,\n",
       "  5,\n",
       "  0.7547169811320755,\n",
       "  1.0,\n",
       "  0.8773584905660378]]"
      ]
     },
     "execution_count": 65,
     "metadata": {},
     "output_type": "execute_result"
    }
   ],
   "source": [
    "etf_data.data[:5]"
   ]
  },
  {
   "cell_type": "code",
   "execution_count": 70,
   "metadata": {
    "collapsed": false
   },
   "outputs": [],
   "source": [
    "class Elaborate(Integrate):\n",
    "\n",
    "\n",
    "    \"\"\"\n",
    "    Attributes:\n",
    "    portfolio: contains suggested asset allocations and percentage of\n",
    "    recommended allocation for the user's investment portfolio.\n",
    "    elaborations: cycles through questions to the user regarding how and to what\n",
    "    degree to further supply suggestions.\n",
    "\n",
    "    Methods:\n",
    "    suggest_allocations: asks user if they would like additional detail\n",
    "    on the suggested asset allocations and returns feedback for inaccurate\n",
    "    answers.\n",
    "    equity_allocation: determines what proportion of a user's portfolio\n",
    "    should be invested in equity.\n",
    "    suggest_investments: returns actual investments in the form of mutual funds\n",
    "    or ETF's based on the user's response. Returns feedback for invalid answers.\n",
    "    \"\"\"\n",
    "\n",
    "\n",
    "    def __init__(self, profile):\n",
    "\n",
    "        # Imports user profile data\n",
    "        self.profile = profile\n",
    "        # Creates blank dictionary for asset allocations to be added to\n",
    "        self.portfolio = {}\n",
    "        # Defaults corporate bond for bonds since that is the only recommended\n",
    "        # type of bond per SmartAssets\n",
    "        self.portfolio['Corporate Bond'] = self.profile.bond_proportion\n",
    "        # Defaults cash since it is simply available cash to the user\n",
    "        self.portfolio['Cash'] = self.profile.cash_proportion\n",
    "\n",
    "        # List of suggestions to cycle through until valid answer is returned\n",
    "        elaborations = [self.suggest_allocations, self.suggest_investments]\n",
    "\n",
    "        # Iterate through each question's function to launch question specific \n",
    "        # feedback until a valid answer is returned for each or the user quits\n",
    "        i = 0\n",
    "        while i < len(elaborations):\n",
    "            answered = elaborations[i]()\n",
    "            if str(answered).lower() == 'quit':\n",
    "                raise Exception(\"Exiting program, hope this exercise was helpful!\")\n",
    "            if answered is True:\n",
    "                i += 1\n",
    "            else:\n",
    "                continue\n",
    "\n",
    "\n",
    "    # Asks and computes suggested allocations\n",
    "    def suggest_allocations(self):\n",
    "\n",
    "        # Asks user if they would like additional information of asset allocation\n",
    "        self.allocations = input('Would you like additional asset ' \\\n",
    "                                + 'allocation detail? (yes or no)' \\\n",
    "                                + '\\nAnswer: \\n')\n",
    "\n",
    "        # Check for a yes/no or quit answer\n",
    "        try:\n",
    "            \n",
    "            # If user quits or doesn't request more information, exit program.\n",
    "            if self.allocations.lower() == 'quit' \\\n",
    "            or self.allocations.lower() == 'n' \\\n",
    "            or self.allocations.lower() == 'no':\n",
    "                return 'quit'\n",
    "\n",
    "            # If user returns y, green light allocation computation\n",
    "            elif self.allocations.lower() == 'yes' \\\n",
    "            or self.allocations.lower() == 'y':\n",
    "                self.allocations = True\n",
    "\n",
    "             # For any other errors, cycle over\n",
    "            else:\n",
    "                print(\"Please enter a yes/no answer or type 'quit' to\" \\\n",
    "                      + \"\\nexit the program.\\n\")\n",
    "\n",
    "         # For any other errors, return except and if not 'quit', cycle over\n",
    "        except:\n",
    "        \n",
    "            if str(self.allocations).lower() != \"quit\":\n",
    "                print(\"Please enter a yes/no answer or type 'quit' to\" \\\n",
    "                      + \"\\nexit the program.\\n\")\n",
    "\n",
    "            else:\n",
    "                return self.allocations\n",
    "\n",
    "        # If green lit and equity is suggested, calculate asset allocation per\n",
    "        # user's investment profile\n",
    "        if self.allocations is True \\\n",
    "        and self.profile.equity_proportion > 0:\n",
    "\n",
    "            if self.profile.profile == 'Very Conservative':\n",
    "                self.equity_allocation('Large Blend', float(10/20))\n",
    "                self.equity_allocation('Mid-Cap Blend', float(5/20))\n",
    "                self.equity_allocation('Foreign Large Blend', float(2.5/20))\n",
    "                self.equity_allocation('Foreign Small/Mid Blend', float(2.5/20))\n",
    "\n",
    "            elif self.profile.profile == 'Conservative':\n",
    "                self.equity_allocation('Large Blend', float(15/45))\n",
    "                self.equity_allocation('Mid-Cap Blend', float(10/45))\n",
    "                self.equity_allocation('Small Blend', float(10/45))\n",
    "                self.equity_allocation('Foreign Large Blend', float(2.5/45))\n",
    "                self.equity_allocation('Foreign Small/Mid Blend', float(2.5/45))\n",
    "                self.equity_allocation('Diversified Emerging Mkts', float(5/45))\n",
    "\n",
    "            elif self.profile.profile == 'Moderate':\n",
    "                self.equity_allocation('Large Blend', float(20/65))\n",
    "                self.equity_allocation('Mid-Cap Blend', float(20/65))\n",
    "                self.equity_allocation('Small Blend', float(10/65))\n",
    "                self.equity_allocation('Foreign Large Blend', float(5/65))\n",
    "                self.equity_allocation('Foreign Small/Mid Blend', float(5/65))\n",
    "                self.equity_allocation('Diversified Emerging Mkts', float(5/65))\n",
    "\n",
    "            elif self.profile.profile == 'Aggressive':\n",
    "                self.equity_allocation('Large Blend', float(25/80))\n",
    "                self.equity_allocation('Mid-Cap Blend', float(20/80))\n",
    "                self.equity_allocation('Small Blend', float(15/80))\n",
    "                self.equity_allocation('Foreign Large Blend', float(5/80))\n",
    "                self.equity_allocation('Foreign Small/Mid Blend', float(5/80))\n",
    "                self.equity_allocation('Diversified Emerging Mkts', float(10/80))\n",
    "\n",
    "            elif self.profile.profile == 'Very Aggressive':\n",
    "                self.equity_allocation('Large Blend', float(20/90))\n",
    "                self.equity_allocation('Mid-Cap Blend', float(20/90))\n",
    "                self.equity_allocation('Small Blend', float(20/90))\n",
    "                self.equity_allocation('Foreign Large Blend', float(7.5/90))\n",
    "                self.equity_allocation('Foreign Small/Mid Blend', float(7.5/90))\n",
    "                self.equity_allocation('Diversified Emerging Mkts', float(15/90))\n",
    "\n",
    "            else:\n",
    "                print('Unknown error, please try again.')\n",
    "\n",
    "            print('\\nGreat! The following allocation aligns well with your ' \\\n",
    "                 + 'investment profile:\\n')\n",
    "\n",
    "            for key, item in self.portfolio.items():\n",
    "\n",
    "                print('{category:<30s} \\\n",
    "                       {percentage:<.2f}%'.format(category=key, \\\n",
    "                                                  percentage=item))\n",
    "\n",
    "            return True\n",
    "\n",
    "\n",
    "    # Determines proportion of equity per investment category\n",
    "    def equity_allocation(self, investment_category, proportion):\n",
    "        self.portfolio[investment_category] = \\\n",
    "            round(float(proportion * self.profile.equity_proportion), 2)\n",
    "\n",
    "\n",
    "    # Asks user if investments should be recommended and if so, what type\n",
    "    def suggest_investments(self):\n",
    "\n",
    "        # Asks user if they would like recommended investments\n",
    "        self.investments = input('\\nWould you like recommended investments ' \\\n",
    "                                + 'for each asset category?' \\\n",
    "                                + '\\n(yes or no)' \\\n",
    "                                + '\\nAnswer: \\n')\n",
    "\n",
    "        # Check for a yes/no or quit answer\n",
    "        try:\n",
    "            \n",
    "            # If user quits or doesn't request more information, exit program.\n",
    "            if self.investments.lower() == 'quit' \\\n",
    "            or self.investments.lower() == 'n' \\\n",
    "            or self.investments.lower() == 'no':\n",
    "                return 'quit'\n",
    "\n",
    "            # If user returns yes, green light investment recommendations\n",
    "            elif self.investments.lower() == 'yes' \\\n",
    "            or self.investments.lower() == 'y':\n",
    "                self.investments = True\n",
    "\n",
    "            # Otherwise, recycle through question\n",
    "            else:\n",
    "                print(\"Please enter a yes/no answer or type 'quit' to exit\" \\\n",
    "                     + \"\\nthe program.\\n\")\n",
    "\n",
    "        # For any other errors, return except and if not 'quit', cycle over\n",
    "        except:\n",
    "\n",
    "            if str(self.investments).lower() != \"quit\":\n",
    "                print(\"Please enter a yes/no answer or type 'quit' to exit\" \\\n",
    "                     + \"\\nthe program.\\n\")\n",
    "                      \n",
    "            else:\n",
    "                return self.investments\n",
    "\n",
    "        # If green lit, continue to investment recommendations\n",
    "        if self.investments is True:\n",
    "\n",
    "            # Asks user what type of investment (mutual funds or ETFs)\n",
    "            self.investment_type = input(\"\\nDo you prefer to invest in mutual \" \\\n",
    "                                        + \"funds or ETF's? Please type 'etf'\" \\\n",
    "                                        + \"\\nif you prefer ETF's or enter any \" \\\n",
    "                                        + \"other value to return mutual fund\" \\\n",
    "                                        + \"\\ninvestments.\" \\\n",
    "                                        + '\\nAnswer: \\n')\n",
    "\n",
    "            # Default to mutual fund data\n",
    "            self.etfs = False\n",
    "            self.funds = True\n",
    "            \n",
    "            # Check if user entered 'ETF'\n",
    "            try:\n",
    "                # If user quits or doesn't request more information, exit program.\n",
    "                if self.investment_type.lower() == 'quit':\n",
    "                    return 'quit'\n",
    "\n",
    "                # If user requests ETF, turn ETF to 'True' and turn funds to 'False'\n",
    "                elif self.investment_type.lower() == 'etf':\n",
    "                    self.etfs = True\n",
    "                    self.funds = False\n",
    "\n",
    "                else:\n",
    "                    pass\n",
    "\n",
    "            # For any other errors, return except and if not 'quit', cycle over\n",
    "            except:\n",
    "                \n",
    "                if str(self.investment_type).lower() != \"quit\":\n",
    "                    print(\"Please enter a yes/no answer or type 'quit' to exit\" \\\n",
    "                         + \"\\nthe program.\\n\")\n",
    "                         \n",
    "                else:\n",
    "                    return self.investments\n",
    "\n",
    "\n",
    "            try:\n",
    "\n",
    "                # Cycle through asset allocations\n",
    "                for key, item in self.portfolio.items():\n",
    "\n",
    "                    # Skip over 'Cash' asset allocation\n",
    "                    if key == 'Cash':\n",
    "                        continue\n",
    "\n",
    "                    print('\\nTop 5 {category:<30s}'.format(category=key) \\\n",
    "                                + '{percentage:<.2f}%'.format(percentage=item))\n",
    "\n",
    "                    print('\\n{ticker:^10s}'.format(ticker='Ticker') \\\n",
    "                             + '{name:^40s}'.format(name='Name') \\\n",
    "                             + '{expense:^20s}'.format(expense='Expense Ratio') \\\n",
    "                             + '{expense_percentile:^15s}'.format(expense_percentile='Percentile') \\\n",
    "                             + '{rating:^25s}'.format(rating='Morningstar Rating') \\\n",
    "                             + '{rating_percentile:^15s}\\n'.format(rating_percentile='Percentile'))\n",
    "\n",
    "                    data = Integrate(funds=self.funds, etfs=self.etfs, category=str(key))\n",
    "                    for investment in data.data[:5]:\n",
    "                        print('{ticker:^10s}'.format(ticker=investment[0]) \\\n",
    "                              + '{name:<40s}'.format(name=investment[1]) \\\n",
    "                              + '{expense:^20.2f}'.format(expense=investment[3]) \\\n",
    "                              + '{expense_percentile:^15.3f}'.format(expense_percentile=investment[5]) \\\n",
    "                              + '{rating:^25d}'.format(rating=investment[4]) \\\n",
    "                              + '{rating_percentile:^15.3f}'.format(rating_percentile=investment[6]))\n",
    "\n",
    "                print('\\n{category:<36s}'.format(category='Cash') \\\n",
    "                      + '{percentage:<.2f}% '.format(percentage=self.portfolio['Cash']) \\\n",
    "                      + '(Savings Account, Money Market, Piggy Bank, etc)')\n",
    "\n",
    "\n",
    "            except:\n",
    "                print('Unknown error while retrieving investments.')\n",
    "\n",
    "\n",
    "            print('\\n\\nThank you for using this tool, hope the suggestions '\n",
    "                  + 'are beneficial!')\n",
    "\n",
    "            return True"
   ]
  },
  {
   "cell_type": "code",
   "execution_count": 71,
   "metadata": {
    "collapsed": false
   },
   "outputs": [
    {
     "name": "stdout",
     "output_type": "stream",
     "text": [
      "Would you like additional assetallocation detail? (yes or no)\n",
      "Answer: \n",
      "yes\n",
      "\n",
      "Great! The following allocation aligns well with yourinvestment profile:\n",
      "\n",
      "Corporate Bond                                        5.00%\n",
      "Cash                                                  5.00%\n",
      "Large Blend                                           28.12%\n",
      "Mid-Cap Blend                                         22.50%\n",
      "Small Blend                                           16.88%\n",
      "Foreign Large Blend                                   5.62%\n",
      "Foreign Small/Mid Blend                               5.62%\n",
      "Diversified Emerging Mkts                             11.25%\n",
      "\n",
      "Would you like recommended investments for each asset category?\n",
      "(yes or no)\n",
      "Answer: \n",
      "y\n",
      "\n",
      "Do you prefer to invest in mutual funds or ETF's? Please type 'etf'\n",
      "if you prefer ETF's or enter any other value to return mutual fund\n",
      "investments.\n",
      "Answer: \n",
      "k\n",
      "\n",
      "Top 5 Corporate Bond                5.00%\n",
      "\n",
      "  Ticker                    Name                     Expense Ratio      Percentile      Morningstar Rating      Percentile   \n",
      "\n",
      "  BRACX   BlackRock Allocation Target Shrs Ser C          0.01             1.000                 4                 0.957     \n",
      "  FCSPX   Federated Corporate Bond Strategy               0.01             1.000                 4                 0.957     \n",
      "  IIGPX   Voya Investment Grade Credit P                  0.10             0.983                 4                 0.957     \n",
      "  PBBBX   PIA BBB Bond                                    0.15             0.974                 4                 0.957     \n",
      "  URIBX   USAA Intermediate Term Bond R6                  0.39             0.940                 4                 0.957     \n",
      "\n",
      "Top 5 Large Blend                   28.12%\n",
      "\n",
      "  Ticker                    Name                     Expense Ratio      Percentile      Morningstar Rating      Percentile   \n",
      "\n",
      "  FOHJX   FidelityÂ® Series 100 Index F                   0.05             0.995                 5                 1.000     \n",
      "  RFNGX   American Funds Fundamental Invs R6              0.31             0.944                 5                 1.000     \n",
      "  KPLCX   KP Large Cap Equity Institutional               0.34             0.939                 5                 1.000     \n",
      "  RFNFX   American Funds Fundamental Invs R5              0.35             0.934                 5                 1.000     \n",
      "  FFSMX   FidelityÂ® Total Market Index F                 0.02             1.000                 4                 0.931     \n",
      "\n",
      "Top 5 Mid-Cap Blend                 22.50%\n",
      "\n",
      "  Ticker                    Name                     Expense Ratio      Percentile      Morningstar Rating      Percentile   \n",
      "\n",
      "  VRMPX   Voya Russell Mid Cap Index P2                   0.15             1.000                 4                 0.906     \n",
      "  PMAPX   Principal MidCap S&P 400 Index R-6              0.17             0.994                 4                 0.906     \n",
      "  CPXRX   Columbia Mid Cap Index R5                       0.20             0.989                 4                 0.906     \n",
      "  MDKZX   MM S&PÂ® Mid Cap Index I                        0.20             0.989                 4                 0.906     \n",
      "  MPSIX   Principal MidCap S&P 400 Index Inst             0.20             0.989                 4                 0.906     \n",
      "\n",
      "Top 5 Small Blend                   16.88%\n",
      "\n",
      "  Ticker                    Name                     Expense Ratio      Percentile      Morningstar Rating      Percentile   \n",
      "\n",
      "  CXXRX   Columbia Small Cap Index R5                     0.20             0.989                 5                 1.000     \n",
      "  NMSCX   Columbia Small Cap Index Z                      0.20             0.989                 5                 1.000     \n",
      "  PSSIX   Principal SmallCap S&P 600 Index Inst           0.21             0.981                 5                 1.000     \n",
      "  SWSSX   Schwab Small Cap Index                          0.05             1.000                 4                 0.959     \n",
      "  PSPIX   Principal SmallCap S&P 600 Index R-6            0.17             0.992                 4                 0.959     \n",
      "\n",
      "Top 5 Foreign Large Blend           5.62%\n",
      "\n",
      "  Ticker                    Name                     Expense Ratio      Percentile      Morningstar Rating      Percentile   \n",
      "\n",
      "  TRIPX   TIAA-CREF International Eq Idx Premier          0.21             0.988                 4                 0.914     \n",
      "  DFALX   DFA Large Cap International I                   0.23             0.986                 4                 0.914     \n",
      "  DFIEX   DFA International Core Equity I                 0.30             0.977                 4                 0.914     \n",
      "  IHOVX   Hartford International Opportunities R6         0.74             0.890                 5                 1.000     \n",
      "  DFTWX   DFA TA World ex US Core Equity I                0.37             0.965                 4                 0.914     \n",
      "\n",
      "Top 5 Foreign Small/Mid Blend       5.62%\n",
      "\n",
      "  Ticker                    Name                     Expense Ratio      Percentile      Morningstar Rating      Percentile   \n",
      "\n",
      "  DFISX   DFA International Small Company I               0.53             0.973                 4                 0.946     \n",
      "  MSSIX   Victory Trivalent International Sm-Cp R6        1.13             0.811                 5                 1.000     \n",
      "  LINFX   Lord Abbett International Opp F                 1.12             0.838                 4                 0.946     \n",
      "  SFILX   Schwab Fdmtl Intl Sm Co Idx                     0.39             1.000                 3                 0.784     \n",
      "  VRISX   Virtus KAR International Small-Cap R6           1.24             0.730                 5                 1.000     \n",
      "\n",
      "Top 5 Diversified Emerging Mkts     11.25%\n",
      "\n",
      "  Ticker                    Name                     Expense Ratio      Percentile      Morningstar Rating      Percentile   \n",
      "\n",
      "  RNWGX   American Funds New World R6                     0.65             0.966                 5                 1.000     \n",
      "  FNWFX   American Funds New World F3                     0.66             0.963                 5                 1.000     \n",
      "  RNWFX   American Funds New World R5                     0.71             0.960                 5                 1.000     \n",
      "  NFFFX   American Funds New World F2                     0.76             0.953                 5                 1.000     \n",
      "  RNWHX   American Funds New World R5E                    0.80             0.950                 5                 1.000     \n",
      "\n",
      "Cash                                5.00% (Savings Account, Money Market, Piggy Bank, etc)\n",
      "\n",
      "\n",
      "Thank you for using this tool, hope the suggestions are beneficial!\n"
     ]
    }
   ],
   "source": [
    "shane_result = Elaborate(shane_profile)"
   ]
  },
  {
   "cell_type": "code",
   "execution_count": 72,
   "metadata": {
    "collapsed": false
   },
   "outputs": [
    {
     "data": {
      "text/plain": [
       "{'Cash': 5,\n",
       " 'Corporate Bond': 5,\n",
       " 'Diversified Emerging Mkts': 11.25,\n",
       " 'Foreign Large Blend': 5.62,\n",
       " 'Foreign Small/Mid Blend': 5.62,\n",
       " 'Large Blend': 28.12,\n",
       " 'Mid-Cap Blend': 22.5,\n",
       " 'Small Blend': 16.88}"
      ]
     },
     "execution_count": 72,
     "metadata": {},
     "output_type": "execute_result"
    }
   ],
   "source": [
    "shane_result.portfolio"
   ]
  },
  {
   "cell_type": "code",
   "execution_count": 73,
   "metadata": {
    "collapsed": false
   },
   "outputs": [
    {
     "name": "stdout",
     "output_type": "stream",
     "text": [
      "Would you like additional assetallocation detail? (yes or no)\n",
      "Answer: \n",
      "f;wejlhhenj\n",
      "Please enter a yes/no answer or type 'quit' to\n",
      "exit the program.\n",
      "\n",
      "Would you like additional assetallocation detail? (yes or no)\n",
      "Answer: \n",
      "-10\n",
      "Please enter a yes/no answer or type 'quit' to\n",
      "exit the program.\n",
      "\n",
      "Would you like additional assetallocation detail? (yes or no)\n",
      "Answer: \n",
      "10\n",
      "Please enter a yes/no answer or type 'quit' to\n",
      "exit the program.\n",
      "\n",
      "Would you like additional assetallocation detail? (yes or no)\n",
      "Answer: \n",
      "k\n",
      "Please enter a yes/no answer or type 'quit' to\n",
      "exit the program.\n",
      "\n",
      "Would you like additional assetallocation detail? (yes or no)\n",
      "Answer: \n",
      "YES\n",
      "\n",
      "Great! The following allocation aligns well with yourinvestment profile:\n",
      "\n",
      "Corporate Bond                                        31.00%\n",
      "Cash                                                  11.00%\n",
      "Large Blend                                           19.33%\n",
      "Mid-Cap Blend                                         12.89%\n",
      "Small Blend                                           12.89%\n",
      "Foreign Large Blend                                   3.22%\n",
      "Foreign Small/Mid Blend                               3.22%\n",
      "Diversified Emerging Mkts                             6.44%\n",
      "\n",
      "Would you like recommended investments for each asset category?\n",
      "(yes or no)\n",
      "Answer: \n",
      "iowefhjn\n",
      "Please enter a yes/no answer or type 'quit' to exit\n",
      "the program.\n",
      "\n",
      "\n",
      "Would you like recommended investments for each asset category?\n",
      "(yes or no)\n",
      "Answer: \n",
      "-1\n",
      "Please enter a yes/no answer or type 'quit' to exit\n",
      "the program.\n",
      "\n",
      "\n",
      "Would you like recommended investments for each asset category?\n",
      "(yes or no)\n",
      "Answer: \n",
      "10\n",
      "Please enter a yes/no answer or type 'quit' to exit\n",
      "the program.\n",
      "\n",
      "\n",
      "Would you like recommended investments for each asset category?\n",
      "(yes or no)\n",
      "Answer: \n",
      "k\n",
      "Please enter a yes/no answer or type 'quit' to exit\n",
      "the program.\n",
      "\n",
      "\n",
      "Would you like recommended investments for each asset category?\n",
      "(yes or no)\n",
      "Answer: \n",
      "Y\n",
      "\n",
      "Do you prefer to invest in mutual funds or ETF's? Please type 'etf'\n",
      "if you prefer ETF's or enter any other value to return mutual fund\n",
      "investments.\n",
      "Answer: \n",
      "etf\n",
      "\n",
      "Top 5 Corporate Bond                31.00%\n",
      "\n",
      "  Ticker                    Name                     Expense Ratio      Percentile      Morningstar Rating      Percentile   \n",
      "\n",
      "   VCLT   Vanguard Long-Term Corporate Bd ETF             0.07             1.000                 4                 1.000     \n",
      "   VCIT   Vanguard Interm-Term Corp Bd ETF                0.07             1.000                 3                 0.826     \n",
      "   IBCE   iShares iBonds Mar 2023Tm CorpexFncl ETF        0.10             0.913                 3                 0.826     \n",
      "   IBDD   iShares iBonds Mar 2023 Term Corp ETF           0.10             0.913                 3                 0.826     \n",
      "   LWC    SPDRÂ® Blmbg Barclays LT Corp Bd ETF            0.12             0.739                 4                 1.000     \n",
      "\n",
      "Top 5 Large Blend                   19.33%\n",
      "\n",
      "  Ticker                    Name                     Expense Ratio      Percentile      Morningstar Rating      Percentile   \n",
      "\n",
      "   DGRO   iShares Core Dividend Growth ETF                0.08             0.849                 5                 1.000     \n",
      "   ITOT   iShares Core S&P Total US Stock Mkt ETF         0.03             1.000                 4                 0.774     \n",
      "   SCHB   Schwab US Broad Market ETFâ„¢                   0.03             1.000                 4                 0.774     \n",
      "   SCHX   Schwab US Large-Cap ETFâ„¢                      0.03             1.000                 4                 0.774     \n",
      "   LGLV   SPDRÂ® SSGA US Large Cap Low Volatil ETF        0.12             0.755                 5                 1.000     \n",
      "\n",
      "Top 5 Mid-Cap Blend                 12.89%\n",
      "\n",
      "  Ticker                    Name                     Expense Ratio      Percentile      Morningstar Rating      Percentile   \n",
      "\n",
      "   SCHM   Schwab US Mid-Cap ETFâ„¢                        0.05             1.000                 5                 1.000     \n",
      "    VO    Vanguard Mid-Cap ETF                            0.06             0.950                 4                 0.800     \n",
      "   IJH    iShares Core S&P Mid-Cap ETF                    0.07             0.900                 4                 0.800     \n",
      "   SMD    SPDRÂ® S&P 1000 ETF                             0.10             0.800                 4                 0.800     \n",
      "   IVOO   Vanguard S&P Mid-Cap 400 ETF                    0.15             0.750                 4                 0.800     \n",
      "\n",
      "Top 5 Small Blend                   12.89%\n",
      "\n",
      "  Ticker                    Name                     Expense Ratio      Percentile      Morningstar Rating      Percentile   \n",
      "\n",
      "   IJR    iShares Core S&P Small-Cap ETF                  0.07             0.905                 5                 1.000     \n",
      "   SMLV   SPDRÂ® SSGA US Small Cap Low Volatil ETF        0.12             0.810                 5                 1.000     \n",
      "   SCHA   Schwab US Small-Cap ETFâ„¢                      0.05             1.000                 4                 0.810     \n",
      "   SLY    SPDRÂ® S&P 600 Small Cap ETF                    0.15             0.762                 5                 1.000     \n",
      "   VIOO   Vanguard S&P Small-Cap 600 ETF                  0.15             0.762                 5                 1.000     \n",
      "\n",
      "Top 5 Foreign Large Blend           3.22%\n",
      "\n",
      "  Ticker                    Name                     Expense Ratio      Percentile      Morningstar Rating      Percentile   \n",
      "\n",
      "   EFAV   iShares Edge MSCI Min Vol EAFE ETF              0.20             0.750                 5                 1.000     \n",
      "   VEA    Vanguard FTSE Developed Markets ETF             0.07             0.958                 4                 0.792     \n",
      "   SCHF   Schwab International Equity ETFâ„¢              0.06             1.000                 3                 0.583     \n",
      "   IEFA   iShares Core MSCI EAFE ETF                      0.08             0.917                 3                 0.583     \n",
      "   IXUS   iShares Core MSCI Total Intl Stk ETF            0.11             0.875                 3                 0.583     \n",
      "\n",
      "Top 5 Foreign Small/Mid Blend       3.22%\n",
      "\n",
      "  Ticker                    Name                     Expense Ratio      Percentile      Morningstar Rating      Percentile   \n",
      "\n",
      "   FNDC   Schwab Fundamental Intl Sm Co ETF               0.39             0.600                 4                 1.000     \n",
      "   SCZ    iShares MSCI EAFE Small-Cap ETF                 0.40             0.400                 4                 1.000     \n",
      "   SCHC   Schwab International Small-Cap Eq ETFâ„¢        0.12             1.000                 2                 0.400     \n",
      "   VSS    Vanguard FTSE All-Wld ex-US SmCp ETF            0.13             0.800                 2                 0.400     \n",
      "   GWX    SPDRÂ® S&P International Small Cap ETF          0.40             0.400                 3                 0.600     \n",
      "\n",
      "Top 5 Diversified Emerging Mkts     6.44%\n",
      "\n",
      "  Ticker                    Name                     Expense Ratio      Percentile      Morningstar Rating      Percentile   \n",
      "\n",
      "   SCHE   Schwab Emerging Markets Equity ETFâ„¢           0.13             1.000                 3                 0.900     \n",
      "   IEMG   iShares Core MSCI Emerging Markets ETF          0.14             0.975                 3                 0.900     \n",
      "   VWO    Vanguard FTSE Emerging Markets ETF              0.14             0.975                 3                 0.900     \n",
      "   EEMV   iShares Edge MSCI Min Vol Emerg Mkts ETF        0.25             0.925                 3                 0.900     \n",
      "   ADRE   BLDRS Emerging Markets 50 ADR ETF               0.30             0.850                 3                 0.900     \n",
      "\n",
      "Cash                                11.00% (Savings Account, Money Market, Piggy Bank, etc)\n",
      "\n",
      "\n",
      "Thank you for using this tool, hope the suggestions are beneficial!\n"
     ]
    }
   ],
   "source": [
    "wise_guy_result = Elaborate(wise_guy_profile)"
   ]
  },
  {
   "cell_type": "code",
   "execution_count": 74,
   "metadata": {
    "collapsed": false
   },
   "outputs": [
    {
     "data": {
      "text/plain": [
       "{'Cash': 11,\n",
       " 'Corporate Bond': 31,\n",
       " 'Diversified Emerging Mkts': 6.44,\n",
       " 'Foreign Large Blend': 3.22,\n",
       " 'Foreign Small/Mid Blend': 3.22,\n",
       " 'Large Blend': 19.33,\n",
       " 'Mid-Cap Blend': 12.89,\n",
       " 'Small Blend': 12.89}"
      ]
     },
     "execution_count": 74,
     "metadata": {},
     "output_type": "execute_result"
    }
   ],
   "source": [
    "wise_guy_result.portfolio"
   ]
  }
 ],
 "metadata": {
  "anaconda-cloud": {},
  "kernelspec": {
   "display_name": "Python 3",
   "language": "python",
   "name": "python3"
  },
  "language_info": {
   "codemirror_mode": {
    "name": "ipython",
    "version": 3
   },
   "file_extension": ".py",
   "mimetype": "text/x-python",
   "name": "python",
   "nbconvert_exporter": "python",
   "pygments_lexer": "ipython3",
   "version": "3.6.0"
  }
 },
 "nbformat": 4,
 "nbformat_minor": 0
}
